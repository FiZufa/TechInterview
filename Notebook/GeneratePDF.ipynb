{
 "cells": [
  {
   "cell_type": "markdown",
   "metadata": {},
   "source": [
    "# Generate Syntatic Dataset: PDF"
   ]
  },
  {
   "cell_type": "code",
   "execution_count": 1,
   "metadata": {},
   "outputs": [],
   "source": [
    "import matplotlib.pyplot as plt\n",
    "from fpdf import FPDF\n",
    "from PIL import Image\n",
    "import numpy as np\n",
    "import pandas as pd\n",
    "\n",
    "from faker import Faker\n",
    "from sqlalchemy import create_engine"
   ]
  },
  {
   "cell_type": "markdown",
   "metadata": {},
   "source": [
    "## Generate Syntatic Data"
   ]
  },
  {
   "cell_type": "code",
   "execution_count": 2,
   "metadata": {},
   "outputs": [],
   "source": [
    "fake = Faker()\n",
    "\n",
    "# Create synthetic data for a transaction log\n",
    "data = []\n",
    "for i in range(1, 1001):  \n",
    "    data.append([\n",
    "        i,  # transaction_id as unique integer\n",
    "        fake.name(),  # username\n",
    "        fake.email(),  # email\n",
    "        fake.date_this_year(),  # transaction_date\n",
    "        fake.credit_card_provider(),  # payment_method\n",
    "        round(fake.random_number(), 2),  # amount_spent\n",
    "        fake.random_element(elements=(\"Completed\", \"Pending\", \"Failed\")),  # transaction_status\n",
    "        fake.address(),  # delivery_address\n",
    "        fake.random_element(elements=(\"Electronics\", \"Clothing\", \"Groceries\")),  # product_category\n",
    "        fake.random_number(digits=2),  # discount_applied\n",
    "    ])\n",
    "\n",
    "# Convert data to DataFrame\n",
    "df = pd.DataFrame(data, columns=[\n",
    "    'transaction_id', 'username', 'email', 'transaction_date', 'payment_method',\n",
    "    'amount_spent', 'transaction_status', 'delivery_address', 'product_category', 'discount_applied'\n",
    "])\n",
    "\n",
    "# Save to CSV\n",
    "df.to_csv(\"synthetic_data.csv\", index=False)\n"
   ]
  },
  {
   "cell_type": "code",
   "execution_count": null,
   "metadata": {},
   "outputs": [],
   "source": [
    "%pip install psycopg2-binary sqlalchemy faker"
   ]
  },
  {
   "cell_type": "code",
   "execution_count": 4,
   "metadata": {},
   "outputs": [
    {
     "data": {
      "text/html": [
       "<div>\n",
       "<style scoped>\n",
       "    .dataframe tbody tr th:only-of-type {\n",
       "        vertical-align: middle;\n",
       "    }\n",
       "\n",
       "    .dataframe tbody tr th {\n",
       "        vertical-align: top;\n",
       "    }\n",
       "\n",
       "    .dataframe thead th {\n",
       "        text-align: right;\n",
       "    }\n",
       "</style>\n",
       "<table border=\"1\" class=\"dataframe\">\n",
       "  <thead>\n",
       "    <tr style=\"text-align: right;\">\n",
       "      <th></th>\n",
       "      <th>transaction_id</th>\n",
       "      <th>username</th>\n",
       "      <th>email</th>\n",
       "      <th>transaction_date</th>\n",
       "      <th>payment_method</th>\n",
       "      <th>amount_spent</th>\n",
       "      <th>transaction_status</th>\n",
       "      <th>delivery_address</th>\n",
       "      <th>product_category</th>\n",
       "      <th>discount_applied</th>\n",
       "    </tr>\n",
       "  </thead>\n",
       "  <tbody>\n",
       "    <tr>\n",
       "      <th>211</th>\n",
       "      <td>212</td>\n",
       "      <td>Katherine Steele MD</td>\n",
       "      <td>matthewwright@example.net</td>\n",
       "      <td>2025-02-05</td>\n",
       "      <td>Maestro</td>\n",
       "      <td>33910165</td>\n",
       "      <td>Pending</td>\n",
       "      <td>6528 Hayden River\\nEast Angela, FM 81535</td>\n",
       "      <td>Groceries</td>\n",
       "      <td>63</td>\n",
       "    </tr>\n",
       "    <tr>\n",
       "      <th>345</th>\n",
       "      <td>346</td>\n",
       "      <td>Jessica Ritter</td>\n",
       "      <td>creynolds@example.com</td>\n",
       "      <td>2025-01-03</td>\n",
       "      <td>JCB 16 digit</td>\n",
       "      <td>828431841</td>\n",
       "      <td>Pending</td>\n",
       "      <td>Unit 8203 Box 0926\\nDPO AE 97210</td>\n",
       "      <td>Electronics</td>\n",
       "      <td>3</td>\n",
       "    </tr>\n",
       "    <tr>\n",
       "      <th>969</th>\n",
       "      <td>970</td>\n",
       "      <td>Samantha Conley</td>\n",
       "      <td>qparker@example.org</td>\n",
       "      <td>2025-01-11</td>\n",
       "      <td>Mastercard</td>\n",
       "      <td>87594</td>\n",
       "      <td>Pending</td>\n",
       "      <td>51135 Hill Field\\nLewisview, AK 16379</td>\n",
       "      <td>Clothing</td>\n",
       "      <td>30</td>\n",
       "    </tr>\n",
       "    <tr>\n",
       "      <th>783</th>\n",
       "      <td>784</td>\n",
       "      <td>Jason Murray</td>\n",
       "      <td>thompsonpamela@example.net</td>\n",
       "      <td>2025-01-20</td>\n",
       "      <td>Mastercard</td>\n",
       "      <td>6</td>\n",
       "      <td>Failed</td>\n",
       "      <td>1254 Martha Via\\nTammyhaven, OH 54612</td>\n",
       "      <td>Electronics</td>\n",
       "      <td>12</td>\n",
       "    </tr>\n",
       "    <tr>\n",
       "      <th>20</th>\n",
       "      <td>21</td>\n",
       "      <td>Robert Butler</td>\n",
       "      <td>michael48@example.org</td>\n",
       "      <td>2025-01-01</td>\n",
       "      <td>JCB 16 digit</td>\n",
       "      <td>54</td>\n",
       "      <td>Failed</td>\n",
       "      <td>0068 Terry Corner\\nWest Melaniestad, ID 30168</td>\n",
       "      <td>Electronics</td>\n",
       "      <td>5</td>\n",
       "    </tr>\n",
       "  </tbody>\n",
       "</table>\n",
       "</div>"
      ],
      "text/plain": [
       "     transaction_id             username                       email  \\\n",
       "211             212  Katherine Steele MD   matthewwright@example.net   \n",
       "345             346       Jessica Ritter       creynolds@example.com   \n",
       "969             970      Samantha Conley         qparker@example.org   \n",
       "783             784         Jason Murray  thompsonpamela@example.net   \n",
       "20               21        Robert Butler       michael48@example.org   \n",
       "\n",
       "    transaction_date payment_method  amount_spent transaction_status  \\\n",
       "211       2025-02-05        Maestro      33910165            Pending   \n",
       "345       2025-01-03   JCB 16 digit     828431841            Pending   \n",
       "969       2025-01-11     Mastercard         87594            Pending   \n",
       "783       2025-01-20     Mastercard             6             Failed   \n",
       "20        2025-01-01   JCB 16 digit            54             Failed   \n",
       "\n",
       "                                  delivery_address product_category  \\\n",
       "211       6528 Hayden River\\nEast Angela, FM 81535        Groceries   \n",
       "345               Unit 8203 Box 0926\\nDPO AE 97210      Electronics   \n",
       "969          51135 Hill Field\\nLewisview, AK 16379         Clothing   \n",
       "783          1254 Martha Via\\nTammyhaven, OH 54612      Electronics   \n",
       "20   0068 Terry Corner\\nWest Melaniestad, ID 30168      Electronics   \n",
       "\n",
       "     discount_applied  \n",
       "211                63  \n",
       "345                 3  \n",
       "969                30  \n",
       "783                12  \n",
       "20                  5  "
      ]
     },
     "execution_count": 4,
     "metadata": {},
     "output_type": "execute_result"
    }
   ],
   "source": [
    "synthetic_data_df = pd.read_csv('synthetic_data.csv')\n",
    "\n",
    "synthetic_data_df.sample(5)"
   ]
  },
  {
   "cell_type": "code",
   "execution_count": 5,
   "metadata": {},
   "outputs": [
    {
     "data": {
      "text/plain": [
       "Index(['transaction_id', 'username', 'email', 'transaction_date',\n",
       "       'payment_method', 'amount_spent', 'transaction_status',\n",
       "       'delivery_address', 'product_category', 'discount_applied'],\n",
       "      dtype='object')"
      ]
     },
     "execution_count": 5,
     "metadata": {},
     "output_type": "execute_result"
    }
   ],
   "source": [
    "synthetic_data_df.columns"
   ]
  },
  {
   "cell_type": "code",
   "execution_count": 6,
   "metadata": {},
   "outputs": [
    {
     "name": "stdout",
     "output_type": "stream",
     "text": [
      "SQL file generated successfully!\n"
     ]
    }
   ],
   "source": [
    "# Convert the DataFrame to SQL insert statements and save to a file\n",
    "with open('synthetic_data.sql', 'w') as f:\n",
    "    # Write SQL commands for table creation\n",
    "    f.write(\"\"\"\n",
    "    CREATE TABLE transactions (\n",
    "        transaction_id INTEGER PRIMARY KEY,\n",
    "        username VARCHAR(100),\n",
    "        email VARCHAR(100),\n",
    "        transaction_date TIMESTAMP,\n",
    "        payment_method VARCHAR(50),\n",
    "        amount_spent DECIMAL(10, 2),\n",
    "        transaction_status VARCHAR(50),\n",
    "        delivery_address TEXT,\n",
    "        product_category VARCHAR(50),\n",
    "        discount_applied BOOLEAN\n",
    "    );\n",
    "    \"\"\")\n",
    "\n",
    "    # Write INSERT commands for each row in the DataFrame\n",
    "    for index, row in df.iterrows():\n",
    "        # Convert discount_applied to a boolean (True if > 50, False otherwise)\n",
    "        discount_applied = 'TRUE' if row['discount_applied'] > 50 else 'FALSE'\n",
    "        \n",
    "        insert_statement = f\"\"\"\n",
    "        INSERT INTO transactions (transaction_id, username, email, transaction_date, payment_method, amount_spent, transaction_status, delivery_address, product_category, discount_applied)\n",
    "        VALUES ({row['transaction_id']}, '{row['username']}', '{row['email']}', '{row['transaction_date']}', '{row['payment_method']}', {row['amount_spent']}, '{row['transaction_status']}', '{row['delivery_address']}', '{row['product_category']}', {discount_applied});\n",
    "        \"\"\"\n",
    "        f.write(insert_statement + '\\n')\n",
    "\n",
    "print(\"SQL file generated successfully!\")\n"
   ]
  },
  {
   "cell_type": "code",
   "execution_count": null,
   "metadata": {},
   "outputs": [],
   "source": []
  }
 ],
 "metadata": {
  "kernelspec": {
   "display_name": "base",
   "language": "python",
   "name": "python3"
  },
  "language_info": {
   "codemirror_mode": {
    "name": "ipython",
    "version": 3
   },
   "file_extension": ".py",
   "mimetype": "text/x-python",
   "name": "python",
   "nbconvert_exporter": "python",
   "pygments_lexer": "ipython3",
   "version": "3.11.4"
  }
 },
 "nbformat": 4,
 "nbformat_minor": 2
}
